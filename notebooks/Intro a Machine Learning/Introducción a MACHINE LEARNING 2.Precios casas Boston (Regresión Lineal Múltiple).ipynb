{
 "cells": [
  {
   "cell_type": "code",
   "execution_count": 23,
   "id": "111b24ab",
   "metadata": {},
   "outputs": [],
   "source": [
    "import statsmodels.api as sm\n",
    "import pandas as pd"
   ]
  },
  {
   "cell_type": "code",
   "execution_count": 5,
   "id": "b3ef247e",
   "metadata": {},
   "outputs": [],
   "source": [
    "df_boston = pd.read_csv('Boston House Prices.csv')\n",
    "\n",
    "# Rooms: nº de habitaciones de la casa\n",
    "# Distance: distancia media de la casa a 5 centros de empleo en Boston\n",
    "# Value: valor medio en miles de $ "
   ]
  },
  {
   "cell_type": "code",
   "execution_count": 6,
   "id": "f40c6703",
   "metadata": {},
   "outputs": [
    {
     "data": {
      "text/html": [
       "<div>\n",
       "<style scoped>\n",
       "    .dataframe tbody tr th:only-of-type {\n",
       "        vertical-align: middle;\n",
       "    }\n",
       "\n",
       "    .dataframe tbody tr th {\n",
       "        vertical-align: top;\n",
       "    }\n",
       "\n",
       "    .dataframe thead th {\n",
       "        text-align: right;\n",
       "    }\n",
       "</style>\n",
       "<table border=\"1\" class=\"dataframe\">\n",
       "  <thead>\n",
       "    <tr style=\"text-align: right;\">\n",
       "      <th></th>\n",
       "      <th>Rooms</th>\n",
       "      <th>Distance</th>\n",
       "      <th>Value</th>\n",
       "    </tr>\n",
       "  </thead>\n",
       "  <tbody>\n",
       "    <tr>\n",
       "      <th>0</th>\n",
       "      <td>6.575</td>\n",
       "      <td>4.0900</td>\n",
       "      <td>24.0</td>\n",
       "    </tr>\n",
       "    <tr>\n",
       "      <th>1</th>\n",
       "      <td>6.421</td>\n",
       "      <td>4.9671</td>\n",
       "      <td>21.6</td>\n",
       "    </tr>\n",
       "    <tr>\n",
       "      <th>2</th>\n",
       "      <td>7.185</td>\n",
       "      <td>4.9671</td>\n",
       "      <td>34.7</td>\n",
       "    </tr>\n",
       "    <tr>\n",
       "      <th>3</th>\n",
       "      <td>6.998</td>\n",
       "      <td>6.0622</td>\n",
       "      <td>33.4</td>\n",
       "    </tr>\n",
       "    <tr>\n",
       "      <th>4</th>\n",
       "      <td>7.147</td>\n",
       "      <td>6.0622</td>\n",
       "      <td>36.2</td>\n",
       "    </tr>\n",
       "    <tr>\n",
       "      <th>...</th>\n",
       "      <td>...</td>\n",
       "      <td>...</td>\n",
       "      <td>...</td>\n",
       "    </tr>\n",
       "    <tr>\n",
       "      <th>501</th>\n",
       "      <td>6.593</td>\n",
       "      <td>2.4786</td>\n",
       "      <td>22.4</td>\n",
       "    </tr>\n",
       "    <tr>\n",
       "      <th>502</th>\n",
       "      <td>6.120</td>\n",
       "      <td>2.2875</td>\n",
       "      <td>20.6</td>\n",
       "    </tr>\n",
       "    <tr>\n",
       "      <th>503</th>\n",
       "      <td>6.976</td>\n",
       "      <td>2.1675</td>\n",
       "      <td>23.9</td>\n",
       "    </tr>\n",
       "    <tr>\n",
       "      <th>504</th>\n",
       "      <td>6.794</td>\n",
       "      <td>2.3889</td>\n",
       "      <td>22.0</td>\n",
       "    </tr>\n",
       "    <tr>\n",
       "      <th>505</th>\n",
       "      <td>6.030</td>\n",
       "      <td>2.5050</td>\n",
       "      <td>11.9</td>\n",
       "    </tr>\n",
       "  </tbody>\n",
       "</table>\n",
       "<p>506 rows × 3 columns</p>\n",
       "</div>"
      ],
      "text/plain": [
       "     Rooms  Distance  Value\n",
       "0    6.575    4.0900   24.0\n",
       "1    6.421    4.9671   21.6\n",
       "2    7.185    4.9671   34.7\n",
       "3    6.998    6.0622   33.4\n",
       "4    7.147    6.0622   36.2\n",
       "..     ...       ...    ...\n",
       "501  6.593    2.4786   22.4\n",
       "502  6.120    2.2875   20.6\n",
       "503  6.976    2.1675   23.9\n",
       "504  6.794    2.3889   22.0\n",
       "505  6.030    2.5050   11.9\n",
       "\n",
       "[506 rows x 3 columns]"
      ]
     },
     "execution_count": 6,
     "metadata": {},
     "output_type": "execute_result"
    }
   ],
   "source": [
    "df_boston"
   ]
  },
  {
   "cell_type": "markdown",
   "id": "0140d86a",
   "metadata": {},
   "source": [
    "# 3. Regresión Lineal Múltiple con Statsmodels"
   ]
  },
  {
   "cell_type": "markdown",
   "id": "d11fdda8",
   "metadata": {},
   "source": [
    "## 3.1 Definir las Variables Dependiente e Independientes"
   ]
  },
  {
   "cell_type": "code",
   "execution_count": 9,
   "id": "ac87af38",
   "metadata": {},
   "outputs": [],
   "source": [
    "Y = df_boston['Value'] # variable dependiente\n",
    "X = df_boston[['Rooms', 'Distance']] # variables independientes"
   ]
  },
  {
   "cell_type": "markdown",
   "id": "3d4ef3d2",
   "metadata": {},
   "source": [
    "## 3.2 Crear la regresión: Agregar constante y ajustar modelo"
   ]
  },
  {
   "cell_type": "code",
   "execution_count": 11,
   "id": "20a83bc0",
   "metadata": {},
   "outputs": [],
   "source": [
    "X = sm.add_constant(X) # agregar una constante\n",
    "lm = sm.OLS(Y, X).fit() # ajustar el modelo"
   ]
  },
  {
   "cell_type": "code",
   "execution_count": 13,
   "id": "22b26352",
   "metadata": {},
   "outputs": [
    {
     "data": {
      "text/html": [
       "<table class=\"simpletable\">\n",
       "<caption>OLS Regression Results</caption>\n",
       "<tr>\n",
       "  <th>Dep. Variable:</th>          <td>Value</td>      <th>  R-squared:         </th> <td>   0.496</td>\n",
       "</tr>\n",
       "<tr>\n",
       "  <th>Model:</th>                   <td>OLS</td>       <th>  Adj. R-squared:    </th> <td>   0.494</td>\n",
       "</tr>\n",
       "<tr>\n",
       "  <th>Method:</th>             <td>Least Squares</td>  <th>  F-statistic:       </th> <td>   247.0</td>\n",
       "</tr>\n",
       "<tr>\n",
       "  <th>Date:</th>             <td>Thu, 27 Apr 2023</td> <th>  Prob (F-statistic):</th> <td>1.84e-75</td>\n",
       "</tr>\n",
       "<tr>\n",
       "  <th>Time:</th>                 <td>13:40:23</td>     <th>  Log-Likelihood:    </th> <td> -1667.1</td>\n",
       "</tr>\n",
       "<tr>\n",
       "  <th>No. Observations:</th>      <td>   506</td>      <th>  AIC:               </th> <td>   3340.</td>\n",
       "</tr>\n",
       "<tr>\n",
       "  <th>Df Residuals:</th>          <td>   503</td>      <th>  BIC:               </th> <td>   3353.</td>\n",
       "</tr>\n",
       "<tr>\n",
       "  <th>Df Model:</th>              <td>     2</td>      <th>                     </th>     <td> </td>   \n",
       "</tr>\n",
       "<tr>\n",
       "  <th>Covariance Type:</th>      <td>nonrobust</td>    <th>                     </th>     <td> </td>   \n",
       "</tr>\n",
       "</table>\n",
       "<table class=\"simpletable\">\n",
       "<tr>\n",
       "      <td></td>        <th>coef</th>     <th>std err</th>      <th>t</th>      <th>P>|t|</th>  <th>[0.025</th>    <th>0.975]</th>  \n",
       "</tr>\n",
       "<tr>\n",
       "  <th>const</th>    <td>  -34.6361</td> <td>    2.621</td> <td>  -13.212</td> <td> 0.000</td> <td>  -39.786</td> <td>  -29.486</td>\n",
       "</tr>\n",
       "<tr>\n",
       "  <th>Rooms</th>    <td>    8.8014</td> <td>    0.424</td> <td>   20.780</td> <td> 0.000</td> <td>    7.969</td> <td>    9.634</td>\n",
       "</tr>\n",
       "<tr>\n",
       "  <th>Distance</th> <td>    0.4888</td> <td>    0.141</td> <td>    3.459</td> <td> 0.001</td> <td>    0.211</td> <td>    0.767</td>\n",
       "</tr>\n",
       "</table>\n",
       "<table class=\"simpletable\">\n",
       "<tr>\n",
       "  <th>Omnibus:</th>       <td>142.807</td> <th>  Durbin-Watson:     </th> <td>   0.684</td> \n",
       "</tr>\n",
       "<tr>\n",
       "  <th>Prob(Omnibus):</th> <td> 0.000</td>  <th>  Jarque-Bera (JB):  </th> <td> 844.520</td> \n",
       "</tr>\n",
       "<tr>\n",
       "  <th>Skew:</th>          <td> 1.090</td>  <th>  Prob(JB):          </th> <td>4.12e-184</td>\n",
       "</tr>\n",
       "<tr>\n",
       "  <th>Kurtosis:</th>      <td> 8.942</td>  <th>  Cond. No.          </th> <td>    68.7</td> \n",
       "</tr>\n",
       "</table><br/><br/>Notes:<br/>[1] Standard Errors assume that the covariance matrix of the errors is correctly specified."
      ],
      "text/plain": [
       "<class 'statsmodels.iolib.summary.Summary'>\n",
       "\"\"\"\n",
       "                            OLS Regression Results                            \n",
       "==============================================================================\n",
       "Dep. Variable:                  Value   R-squared:                       0.496\n",
       "Model:                            OLS   Adj. R-squared:                  0.494\n",
       "Method:                 Least Squares   F-statistic:                     247.0\n",
       "Date:                Thu, 27 Apr 2023   Prob (F-statistic):           1.84e-75\n",
       "Time:                        13:40:23   Log-Likelihood:                -1667.1\n",
       "No. Observations:                 506   AIC:                             3340.\n",
       "Df Residuals:                     503   BIC:                             3353.\n",
       "Df Model:                           2                                         \n",
       "Covariance Type:            nonrobust                                         \n",
       "==============================================================================\n",
       "                 coef    std err          t      P>|t|      [0.025      0.975]\n",
       "------------------------------------------------------------------------------\n",
       "const        -34.6361      2.621    -13.212      0.000     -39.786     -29.486\n",
       "Rooms          8.8014      0.424     20.780      0.000       7.969       9.634\n",
       "Distance       0.4888      0.141      3.459      0.001       0.211       0.767\n",
       "==============================================================================\n",
       "Omnibus:                      142.807   Durbin-Watson:                   0.684\n",
       "Prob(Omnibus):                  0.000   Jarque-Bera (JB):              844.520\n",
       "Skew:                           1.090   Prob(JB):                    4.12e-184\n",
       "Kurtosis:                       8.942   Cond. No.                         68.7\n",
       "==============================================================================\n",
       "\n",
       "Notes:\n",
       "[1] Standard Errors assume that the covariance matrix of the errors is correctly specified.\n",
       "\"\"\""
      ]
     },
     "execution_count": 13,
     "metadata": {},
     "output_type": "execute_result"
    }
   ],
   "source": [
    "lm.summary()"
   ]
  },
  {
   "cell_type": "markdown",
   "id": "984955c5",
   "metadata": {},
   "source": [
    "- Observamos que nuestro R-squared (R^2) es 0.496, por tanto, el nº de habitaciones y la distancia explica el 49.6% de la variabilidad de los precios de las casas.\n"
   ]
  }
 ],
 "metadata": {
  "kernelspec": {
   "display_name": "Python 3 (ipykernel)",
   "language": "python",
   "name": "python3"
  },
  "language_info": {
   "codemirror_mode": {
    "name": "ipython",
    "version": 3
   },
   "file_extension": ".py",
   "mimetype": "text/x-python",
   "name": "python",
   "nbconvert_exporter": "python",
   "pygments_lexer": "ipython3",
   "version": "3.9.12"
  }
 },
 "nbformat": 4,
 "nbformat_minor": 5
}
