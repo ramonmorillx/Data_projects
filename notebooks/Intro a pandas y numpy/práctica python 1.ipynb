{
 "cells": [
  {
   "cell_type": "markdown",
   "id": "524e0b30",
   "metadata": {
    "lang": "en"
   },
   "source": [
    "# 1. Hello World"
   ]
  },
  {
   "cell_type": "code",
   "execution_count": 4,
   "id": "c76954f6",
   "metadata": {
    "scrolled": true
   },
   "outputs": [
    {
     "data": {
      "text/plain": [
       "'Hello world!'"
      ]
     },
     "execution_count": 4,
     "metadata": {},
     "output_type": "execute_result"
    }
   ],
   "source": [
    "\"Hello world!\""
   ]
  },
  {
   "cell_type": "code",
   "execution_count": 5,
   "id": "16c3eb22",
   "metadata": {},
   "outputs": [
    {
     "name": "stdout",
     "output_type": "stream",
     "text": [
      "Ramón\n"
     ]
    }
   ],
   "source": [
    "#printing my name\n",
    "print(\"Ramón\")"
   ]
  },
  {
   "cell_type": "markdown",
   "id": "9be53b58",
   "metadata": {
    "lang": "en"
   },
   "source": [
    "# 2. Data Types"
   ]
  },
  {
   "cell_type": "code",
   "execution_count": 6,
   "id": "3e354d06",
   "metadata": {
    "lang": "en"
   },
   "outputs": [
    {
     "data": {
      "text/plain": [
       "int"
      ]
     },
     "execution_count": 6,
     "metadata": {},
     "output_type": "execute_result"
    }
   ],
   "source": [
    "type(1)"
   ]
  },
  {
   "cell_type": "code",
   "execution_count": 7,
   "id": "38d50386",
   "metadata": {},
   "outputs": [
    {
     "data": {
      "text/plain": [
       "float"
      ]
     },
     "execution_count": 7,
     "metadata": {},
     "output_type": "execute_result"
    }
   ],
   "source": [
    "#número decimal\n",
    "type(2.4)"
   ]
  },
  {
   "cell_type": "code",
   "execution_count": 8,
   "id": "4f05afbb",
   "metadata": {},
   "outputs": [
    {
     "data": {
      "text/plain": [
       "3"
      ]
     },
     "execution_count": 8,
     "metadata": {},
     "output_type": "execute_result"
    }
   ],
   "source": [
    "1+2"
   ]
  },
  {
   "cell_type": "code",
   "execution_count": 9,
   "id": "79da47dc",
   "metadata": {},
   "outputs": [
    {
     "data": {
      "text/plain": [
       "3"
      ]
     },
     "execution_count": 9,
     "metadata": {},
     "output_type": "execute_result"
    }
   ],
   "source": [
    "4-1"
   ]
  },
  {
   "cell_type": "code",
   "execution_count": 10,
   "id": "b8f7c155",
   "metadata": {},
   "outputs": [
    {
     "data": {
      "text/plain": [
       "bool"
      ]
     },
     "execution_count": 10,
     "metadata": {},
     "output_type": "execute_result"
    }
   ],
   "source": [
    "type(True)"
   ]
  },
  {
   "cell_type": "code",
   "execution_count": 11,
   "id": "271b0579",
   "metadata": {},
   "outputs": [
    {
     "data": {
      "text/plain": [
       "bool"
      ]
     },
     "execution_count": 11,
     "metadata": {},
     "output_type": "execute_result"
    }
   ],
   "source": [
    "type(False)"
   ]
  },
  {
   "cell_type": "code",
   "execution_count": 12,
   "id": "1764636f",
   "metadata": {},
   "outputs": [
    {
     "data": {
      "text/plain": [
       "str"
      ]
     },
     "execution_count": 12,
     "metadata": {},
     "output_type": "execute_result"
    }
   ],
   "source": [
    "type(\"hello world\")"
   ]
  },
  {
   "cell_type": "code",
   "execution_count": 17,
   "id": "4b950dc8",
   "metadata": {},
   "outputs": [
    {
     "name": "stdout",
     "output_type": "stream",
     "text": [
      "HELLO WORLD\n",
      "hello world\n",
      "Hello World\n"
     ]
    }
   ],
   "source": [
    "print(\"hello world\".upper())\n",
    "print(\"hello world\".lower())\n",
    "print(\"hello world\".title())"
   ]
  },
  {
   "cell_type": "code",
   "execution_count": 15,
   "id": "329b619b",
   "metadata": {},
   "outputs": [
    {
     "data": {
      "text/plain": [
       "'hello world'"
      ]
     },
     "execution_count": 15,
     "metadata": {},
     "output_type": "execute_result"
    }
   ],
   "source": [
    "\"hello world\".lower()"
   ]
  },
  {
   "cell_type": "code",
   "execution_count": 16,
   "id": "96ce17b5",
   "metadata": {},
   "outputs": [
    {
     "data": {
      "text/plain": [
       "'HELLO WORLD'"
      ]
     },
     "execution_count": 16,
     "metadata": {},
     "output_type": "execute_result"
    }
   ],
   "source": [
    "\"hello world\".upper()"
   ]
  },
  {
   "cell_type": "code",
   "execution_count": 19,
   "id": "09c16012",
   "metadata": {},
   "outputs": [
    {
     "data": {
      "text/plain": [
       "3"
      ]
     },
     "execution_count": 19,
     "metadata": {},
     "output_type": "execute_result"
    }
   ],
   "source": [
    "\"hello world\".count('l')"
   ]
  },
  {
   "cell_type": "code",
   "execution_count": 10,
   "id": "20fb1071",
   "metadata": {},
   "outputs": [
    {
     "data": {
      "text/plain": [
       "'Estoy aprendiendo python'"
      ]
     },
     "execution_count": 10,
     "metadata": {},
     "output_type": "execute_result"
    }
   ],
   "source": [
    "message_1"
   ]
  },
  {
   "cell_type": "code",
   "execution_count": 20,
   "id": "28ec5990",
   "metadata": {},
   "outputs": [
    {
     "data": {
      "text/plain": [
       "'hellu wurld'"
      ]
     },
     "execution_count": 20,
     "metadata": {},
     "output_type": "execute_result"
    }
   ],
   "source": [
    "\"hello world\".replace('o','u')"
   ]
  },
  {
   "cell_type": "markdown",
   "id": "eeece0ac",
   "metadata": {},
   "source": [
    "# 3. Variables"
   ]
  },
  {
   "cell_type": "code",
   "execution_count": 8,
   "id": "1133771f",
   "metadata": {},
   "outputs": [],
   "source": [
    "message_1 = \"Estoy aprendiendo python\""
   ]
  },
  {
   "cell_type": "code",
   "execution_count": 9,
   "id": "b36d88b3",
   "metadata": {},
   "outputs": [
    {
     "data": {
      "text/plain": [
       "'Estoy aprendiendo python'"
      ]
     },
     "execution_count": 9,
     "metadata": {},
     "output_type": "execute_result"
    }
   ],
   "source": [
    "message_1"
   ]
  },
  {
   "cell_type": "code",
   "execution_count": 11,
   "id": "eadd8449",
   "metadata": {},
   "outputs": [],
   "source": [
    "message_2 = \"y es divertido\""
   ]
  },
  {
   "cell_type": "code",
   "execution_count": 12,
   "id": "530a8282",
   "metadata": {},
   "outputs": [
    {
     "data": {
      "text/plain": [
       "'y es divertido'"
      ]
     },
     "execution_count": 12,
     "metadata": {},
     "output_type": "execute_result"
    }
   ],
   "source": [
    "message_2 "
   ]
  },
  {
   "cell_type": "code",
   "execution_count": 27,
   "id": "5eec274e",
   "metadata": {},
   "outputs": [
    {
     "data": {
      "text/plain": [
       "'Estoy aprendiendo pythony es divertido'"
      ]
     },
     "execution_count": 27,
     "metadata": {},
     "output_type": "execute_result"
    }
   ],
   "source": [
    "message_1 + message_2"
   ]
  },
  {
   "cell_type": "code",
   "execution_count": 28,
   "id": "27007ad4",
   "metadata": {
    "scrolled": true
   },
   "outputs": [
    {
     "data": {
      "text/plain": [
       "'Estoy aprendiendo python y es divertido'"
      ]
     },
     "execution_count": 28,
     "metadata": {},
     "output_type": "execute_result"
    }
   ],
   "source": [
    "message_1 +\" \"+ message_2"
   ]
  },
  {
   "cell_type": "code",
   "execution_count": 33,
   "id": "ffa09dfc",
   "metadata": {},
   "outputs": [],
   "source": [
    "message = f'{message_1} {message_2}'"
   ]
  },
  {
   "cell_type": "code",
   "execution_count": 34,
   "id": "c04c5d8f",
   "metadata": {},
   "outputs": [
    {
     "data": {
      "text/plain": [
       "'Estoy aprendiendo python y es divertido'"
      ]
     },
     "execution_count": 34,
     "metadata": {},
     "output_type": "execute_result"
    }
   ],
   "source": [
    "message"
   ]
  },
  {
   "cell_type": "code",
   "execution_count": 17,
   "id": "cd45e1d3",
   "metadata": {},
   "outputs": [
    {
     "data": {
      "text/plain": [
       "'Estoy aprendiendo python y es divertido'"
      ]
     },
     "execution_count": 17,
     "metadata": {},
     "output_type": "execute_result"
    }
   ],
   "source": [
    "message = f'{message_1} {message_2}'\n",
    "message"
   ]
  },
  {
   "cell_type": "code",
   "execution_count": 20,
   "id": "4b042a7f",
   "metadata": {},
   "outputs": [],
   "source": [
    "import pandas as pd"
   ]
  },
  {
   "cell_type": "code",
   "execution_count": 21,
   "id": "598218d6",
   "metadata": {
    "scrolled": true
   },
   "outputs": [
    {
     "ename": "SyntaxError",
     "evalue": "invalid syntax (1154508434.py, line 1)",
     "output_type": "error",
     "traceback": [
      "\u001b[1;36m  Input \u001b[1;32mIn [21]\u001b[1;36m\u001b[0m\n\u001b[1;33m    pd 123\u001b[0m\n\u001b[1;37m       ^\u001b[0m\n\u001b[1;31mSyntaxError\u001b[0m\u001b[1;31m:\u001b[0m invalid syntax\n"
     ]
    }
   ],
   "source": []
  },
  {
   "cell_type": "markdown",
   "id": "e2a7564a",
   "metadata": {},
   "source": [
    "# 4. Listas"
   ]
  },
  {
   "cell_type": "code",
   "execution_count": 24,
   "id": "4b177c3c",
   "metadata": {},
   "outputs": [],
   "source": [
    "countries = ['United States', 'India', 'China','Brazil']"
   ]
  },
  {
   "cell_type": "code",
   "execution_count": 25,
   "id": "140b8263",
   "metadata": {},
   "outputs": [
    {
     "data": {
      "text/plain": [
       "['United States', 'India', 'China', 'Brazil']"
      ]
     },
     "execution_count": 25,
     "metadata": {},
     "output_type": "execute_result"
    }
   ],
   "source": [
    "countries"
   ]
  },
  {
   "cell_type": "code",
   "execution_count": 26,
   "id": "4a6bc0d6",
   "metadata": {},
   "outputs": [
    {
     "data": {
      "text/plain": [
       "'United States'"
      ]
     },
     "execution_count": 26,
     "metadata": {},
     "output_type": "execute_result"
    }
   ],
   "source": [
    "countries[0] # Posición de los países en la lista #"
   ]
  },
  {
   "cell_type": "code",
   "execution_count": 27,
   "id": "a36e32a3",
   "metadata": {},
   "outputs": [
    {
     "data": {
      "text/plain": [
       "'India'"
      ]
     },
     "execution_count": 27,
     "metadata": {},
     "output_type": "execute_result"
    }
   ],
   "source": [
    "countries[1]"
   ]
  },
  {
   "cell_type": "code",
   "execution_count": 28,
   "id": "ef5f6942",
   "metadata": {},
   "outputs": [
    {
     "data": {
      "text/plain": [
       "'Brazil'"
      ]
     },
     "execution_count": 28,
     "metadata": {},
     "output_type": "execute_result"
    }
   ],
   "source": [
    "countries[3]"
   ]
  },
  {
   "cell_type": "code",
   "execution_count": 29,
   "id": "5782d1e3",
   "metadata": {},
   "outputs": [
    {
     "data": {
      "text/plain": [
       "'Brazil'"
      ]
     },
     "execution_count": 29,
     "metadata": {},
     "output_type": "execute_result"
    }
   ],
   "source": [
    "countries[-1]"
   ]
  },
  {
   "cell_type": "code",
   "execution_count": 30,
   "id": "46e1e696",
   "metadata": {},
   "outputs": [
    {
     "data": {
      "text/plain": [
       "'United States'"
      ]
     },
     "execution_count": 30,
     "metadata": {},
     "output_type": "execute_result"
    }
   ],
   "source": [
    "countries[-4]"
   ]
  },
  {
   "cell_type": "markdown",
   "id": "4c4e1246",
   "metadata": {},
   "source": [
    "# 4.1 Rebanada / Slicing"
   ]
  },
  {
   "cell_type": "code",
   "execution_count": null,
   "id": "33554030",
   "metadata": {},
   "outputs": [],
   "source": [
    "# stop es excluyente\n",
    "nombre_lista[start:stop]"
   ]
  },
  {
   "cell_type": "code",
   "execution_count": 32,
   "id": "5910b6cb",
   "metadata": {},
   "outputs": [
    {
     "data": {
      "text/plain": [
       "['United States', 'India', 'China']"
      ]
     },
     "execution_count": 32,
     "metadata": {},
     "output_type": "execute_result"
    }
   ],
   "source": [
    "countries[0:3]"
   ]
  },
  {
   "cell_type": "code",
   "execution_count": 34,
   "id": "eb77a02b",
   "metadata": {},
   "outputs": [
    {
     "data": {
      "text/plain": [
       "['India', 'China', 'Brazil']"
      ]
     },
     "execution_count": 34,
     "metadata": {},
     "output_type": "execute_result"
    }
   ],
   "source": [
    "countries[1:] # si omitimos stop vamos a obtener desde start hasta el final de la lista #"
   ]
  },
  {
   "cell_type": "code",
   "execution_count": 36,
   "id": "4019ba40",
   "metadata": {},
   "outputs": [
    {
     "data": {
      "text/plain": [
       "['United States', 'India']"
      ]
     },
     "execution_count": 36,
     "metadata": {},
     "output_type": "execute_result"
    }
   ],
   "source": [
    "countries[:2] # si omitimos start vamos a obtener desde el principio hasta el stop #"
   ]
  },
  {
   "cell_type": "markdown",
   "id": "79e24ba9",
   "metadata": {},
   "source": [
    "# 4.2 Operaciones y Métodos "
   ]
  },
  {
   "cell_type": "code",
   "execution_count": 37,
   "id": "b7c6f94c",
   "metadata": {},
   "outputs": [
    {
     "data": {
      "text/plain": [
       "['United States', 'India', 'China', 'Brazil']"
      ]
     },
     "execution_count": 37,
     "metadata": {},
     "output_type": "execute_result"
    }
   ],
   "source": [
    "countries"
   ]
  },
  {
   "cell_type": "code",
   "execution_count": 38,
   "id": "20c1d7e4",
   "metadata": {},
   "outputs": [],
   "source": [
    "countries.append('Canada') # añadir a la lista otra variable SOLO en la última posición"
   ]
  },
  {
   "cell_type": "code",
   "execution_count": 39,
   "id": "aa088ec1",
   "metadata": {},
   "outputs": [
    {
     "data": {
      "text/plain": [
       "['United States', 'India', 'China', 'Brazil', 'Canada']"
      ]
     },
     "execution_count": 39,
     "metadata": {},
     "output_type": "execute_result"
    }
   ],
   "source": [
    "countries"
   ]
  },
  {
   "cell_type": "code",
   "execution_count": 40,
   "id": "961f3ae2",
   "metadata": {},
   "outputs": [],
   "source": [
    "countries.insert(0, 'Argentina') # añadir a la lista otra variable especificando la posición"
   ]
  },
  {
   "cell_type": "code",
   "execution_count": 41,
   "id": "e5cfcee8",
   "metadata": {},
   "outputs": [
    {
     "data": {
      "text/plain": [
       "['Argentina', 'United States', 'India', 'China', 'Brazil', 'Canada']"
      ]
     },
     "execution_count": 41,
     "metadata": {},
     "output_type": "execute_result"
    }
   ],
   "source": [
    "countries"
   ]
  },
  {
   "cell_type": "code",
   "execution_count": 43,
   "id": "7af1bc9b",
   "metadata": {},
   "outputs": [],
   "source": [
    "countries_2 = ['UK', 'Alemania', 'Australia']"
   ]
  },
  {
   "cell_type": "code",
   "execution_count": 44,
   "id": "08dec2a8",
   "metadata": {},
   "outputs": [
    {
     "data": {
      "text/plain": [
       "['Argentina',\n",
       " 'United States',\n",
       " 'India',\n",
       " 'China',\n",
       " 'Brazil',\n",
       " 'Canada',\n",
       " 'UK',\n",
       " 'Alemania',\n",
       " 'Australia']"
      ]
     },
     "execution_count": 44,
     "metadata": {},
     "output_type": "execute_result"
    }
   ],
   "source": [
    "countries + countries_2 # concatenar listas"
   ]
  },
  {
   "cell_type": "code",
   "execution_count": 45,
   "id": "707ba491",
   "metadata": {},
   "outputs": [],
   "source": [
    "nueva_lista = [countries, countries_2] # meter listas en una lista"
   ]
  },
  {
   "cell_type": "code",
   "execution_count": 46,
   "id": "6c1746db",
   "metadata": {},
   "outputs": [
    {
     "data": {
      "text/plain": [
       "[['Argentina', 'United States', 'India', 'China', 'Brazil', 'Canada'],\n",
       " ['UK', 'Alemania', 'Australia']]"
      ]
     },
     "execution_count": 46,
     "metadata": {},
     "output_type": "execute_result"
    }
   ],
   "source": [
    "nueva_lista"
   ]
  },
  {
   "cell_type": "markdown",
   "id": "e2d6e2f7",
   "metadata": {},
   "source": [
    "# 4.3 Eliminar elementos"
   ]
  },
  {
   "cell_type": "code",
   "execution_count": 48,
   "id": "ed9ee36d",
   "metadata": {},
   "outputs": [],
   "source": [
    "countries.remove('Canada') # escribimos NOMBRE del elemento"
   ]
  },
  {
   "cell_type": "code",
   "execution_count": 49,
   "id": "608feb6b",
   "metadata": {},
   "outputs": [
    {
     "data": {
      "text/plain": [
       "['Argentina', 'United States', 'India', 'China', 'Brazil']"
      ]
     },
     "execution_count": 49,
     "metadata": {},
     "output_type": "execute_result"
    }
   ],
   "source": [
    "countries"
   ]
  },
  {
   "cell_type": "code",
   "execution_count": 50,
   "id": "e9369611",
   "metadata": {},
   "outputs": [
    {
     "data": {
      "text/plain": [
       "'Argentina'"
      ]
     },
     "execution_count": 50,
     "metadata": {},
     "output_type": "execute_result"
    }
   ],
   "source": [
    "countries.pop(0) # escribimos su número de lista (INDEX) y nos muestra el elemento eliminado"
   ]
  },
  {
   "cell_type": "code",
   "execution_count": 51,
   "id": "cdb2d1bc",
   "metadata": {},
   "outputs": [
    {
     "data": {
      "text/plain": [
       "['United States', 'India', 'China', 'Brazil']"
      ]
     },
     "execution_count": 51,
     "metadata": {},
     "output_type": "execute_result"
    }
   ],
   "source": [
    "countries"
   ]
  },
  {
   "cell_type": "code",
   "execution_count": 52,
   "id": "ff7b18e7",
   "metadata": {},
   "outputs": [],
   "source": [
    "del countries[0]"
   ]
  },
  {
   "cell_type": "code",
   "execution_count": 53,
   "id": "81df79c3",
   "metadata": {},
   "outputs": [
    {
     "data": {
      "text/plain": [
       "['India', 'China', 'Brazil']"
      ]
     },
     "execution_count": 53,
     "metadata": {},
     "output_type": "execute_result"
    }
   ],
   "source": [
    "countries"
   ]
  },
  {
   "cell_type": "markdown",
   "id": "de50a52f",
   "metadata": {},
   "source": [
    "# 4.4 Ordenar una Lista"
   ]
  },
  {
   "cell_type": "code",
   "execution_count": 54,
   "id": "589168f7",
   "metadata": {},
   "outputs": [],
   "source": [
    "numbers = [4,3,10,7,1,2]"
   ]
  },
  {
   "cell_type": "code",
   "execution_count": 55,
   "id": "b80079ec",
   "metadata": {},
   "outputs": [
    {
     "data": {
      "text/plain": [
       "[4, 3, 10, 7, 1, 2]"
      ]
     },
     "execution_count": 55,
     "metadata": {},
     "output_type": "execute_result"
    }
   ],
   "source": [
    "numbers"
   ]
  },
  {
   "cell_type": "code",
   "execution_count": 56,
   "id": "72c8ff75",
   "metadata": {},
   "outputs": [],
   "source": [
    "numbers.sort() # ordenar una lista de menor a mayor"
   ]
  },
  {
   "cell_type": "code",
   "execution_count": 57,
   "id": "5208738f",
   "metadata": {},
   "outputs": [
    {
     "data": {
      "text/plain": [
       "[1, 2, 3, 4, 7, 10]"
      ]
     },
     "execution_count": 57,
     "metadata": {},
     "output_type": "execute_result"
    }
   ],
   "source": [
    "numbers"
   ]
  },
  {
   "cell_type": "code",
   "execution_count": 58,
   "id": "56cb0d4f",
   "metadata": {},
   "outputs": [],
   "source": [
    "numbers.sort(reverse=True) # ordenar una lista de mayor a menor"
   ]
  },
  {
   "cell_type": "code",
   "execution_count": 59,
   "id": "785a47db",
   "metadata": {},
   "outputs": [
    {
     "data": {
      "text/plain": [
       "[10, 7, 4, 3, 2, 1]"
      ]
     },
     "execution_count": 59,
     "metadata": {},
     "output_type": "execute_result"
    }
   ],
   "source": [
    "numbers"
   ]
  },
  {
   "cell_type": "code",
   "execution_count": 61,
   "id": "d26fd75e",
   "metadata": {},
   "outputs": [],
   "source": [
    "numbers[0] = 1000"
   ]
  },
  {
   "cell_type": "code",
   "execution_count": 62,
   "id": "0c1e1d32",
   "metadata": {},
   "outputs": [
    {
     "data": {
      "text/plain": [
       "[1000, 7, 4, 3, 2, 1]"
      ]
     },
     "execution_count": 62,
     "metadata": {},
     "output_type": "execute_result"
    }
   ],
   "source": [
    "numbers"
   ]
  },
  {
   "cell_type": "markdown",
   "id": "ab1ceb8a",
   "metadata": {},
   "source": [
    "# 4.5 Copiar una Lista"
   ]
  },
  {
   "cell_type": "code",
   "execution_count": 64,
   "id": "bbcdca03",
   "metadata": {},
   "outputs": [],
   "source": [
    "nueva_lista = countries.copy() # la copia es independiente, si se altera la original, la copia no se altera"
   ]
  },
  {
   "cell_type": "code",
   "execution_count": 65,
   "id": "26dca79d",
   "metadata": {},
   "outputs": [
    {
     "data": {
      "text/plain": [
       "['India', 'China', 'Brazil']"
      ]
     },
     "execution_count": 65,
     "metadata": {},
     "output_type": "execute_result"
    }
   ],
   "source": [
    "nueva_lista"
   ]
  },
  {
   "cell_type": "code",
   "execution_count": 68,
   "id": "1dfbd9e6",
   "metadata": {},
   "outputs": [],
   "source": [
    "nueva_lista_2 = countries[:] # la copia es independiente, si se altera la original, la copia no se altera"
   ]
  },
  {
   "cell_type": "code",
   "execution_count": 69,
   "id": "92f965a8",
   "metadata": {},
   "outputs": [
    {
     "data": {
      "text/plain": [
       "['India', 'China', 'Brazil']"
      ]
     },
     "execution_count": 69,
     "metadata": {},
     "output_type": "execute_result"
    }
   ],
   "source": [
    "nueva_lista_2"
   ]
  },
  {
   "cell_type": "markdown",
   "id": "238ca120",
   "metadata": {},
   "source": [
    "# 5. Diccionarios"
   ]
  },
  {
   "cell_type": "code",
   "execution_count": null,
   "id": "a2a1b2d9",
   "metadata": {},
   "outputs": [],
   "source": [
    "mi_diccionaro = {'key1':'value1', 'key2':'value2'}"
   ]
  },
  {
   "cell_type": "code",
   "execution_count": 2,
   "id": "bf3db723",
   "metadata": {},
   "outputs": [],
   "source": [
    "my_data = {'nombre': 'Ramon', 'edad':21}"
   ]
  },
  {
   "cell_type": "code",
   "execution_count": 3,
   "id": "e466313f",
   "metadata": {},
   "outputs": [
    {
     "data": {
      "text/plain": [
       "{'nombre': 'Ramon', 'edad': 21}"
      ]
     },
     "execution_count": 3,
     "metadata": {},
     "output_type": "execute_result"
    }
   ],
   "source": [
    "my_data"
   ]
  },
  {
   "cell_type": "code",
   "execution_count": 4,
   "id": "be8f766e",
   "metadata": {},
   "outputs": [
    {
     "data": {
      "text/plain": [
       "'Ramon'"
      ]
     },
     "execution_count": 4,
     "metadata": {},
     "output_type": "execute_result"
    }
   ],
   "source": [
    "my_data['nombre'] # Acceder al valor del diccionario"
   ]
  },
  {
   "cell_type": "code",
   "execution_count": 5,
   "id": "2941fc52",
   "metadata": {},
   "outputs": [
    {
     "data": {
      "text/plain": [
       "dict_keys(['nombre', 'edad'])"
      ]
     },
     "execution_count": 5,
     "metadata": {},
     "output_type": "execute_result"
    }
   ],
   "source": [
    "my_data.keys() # Muestra todos los keys del diccionario"
   ]
  },
  {
   "cell_type": "code",
   "execution_count": 6,
   "id": "81b4e944",
   "metadata": {},
   "outputs": [
    {
     "data": {
      "text/plain": [
       "dict_values(['Ramon', 21])"
      ]
     },
     "execution_count": 6,
     "metadata": {},
     "output_type": "execute_result"
    }
   ],
   "source": [
    "my_data.values() # Muestra los valores del diccionario"
   ]
  },
  {
   "cell_type": "code",
   "execution_count": 7,
   "id": "adcce8fb",
   "metadata": {},
   "outputs": [
    {
     "data": {
      "text/plain": [
       "dict_items([('nombre', 'Ramon'), ('edad', 21)])"
      ]
     },
     "execution_count": 7,
     "metadata": {},
     "output_type": "execute_result"
    }
   ],
   "source": [
    "my_data.items() # Muestra todos los items (par) del diccionario"
   ]
  },
  {
   "cell_type": "markdown",
   "id": "df21dec2",
   "metadata": {},
   "source": [
    "# 5.1 Agregar / Actualizar elementos"
   ]
  },
  {
   "cell_type": "code",
   "execution_count": 9,
   "id": "e4b46214",
   "metadata": {},
   "outputs": [],
   "source": [
    "my_data = {'nombre': 'Ramon', 'edad':21}"
   ]
  },
  {
   "cell_type": "code",
   "execution_count": 10,
   "id": "8a3c61c4",
   "metadata": {},
   "outputs": [],
   "source": [
    "my_data['estatura'] = 1.9 # Añadir un nuevo item al diccionario"
   ]
  },
  {
   "cell_type": "code",
   "execution_count": 11,
   "id": "00d43bed",
   "metadata": {},
   "outputs": [
    {
     "data": {
      "text/plain": [
       "{'nombre': 'Ramon', 'edad': 21, 'estatura': 1.9}"
      ]
     },
     "execution_count": 11,
     "metadata": {},
     "output_type": "execute_result"
    }
   ],
   "source": [
    "my_data"
   ]
  },
  {
   "cell_type": "code",
   "execution_count": 12,
   "id": "e2b9a9a5",
   "metadata": {},
   "outputs": [],
   "source": [
    "my_data.update({'estatura':1.89, 'lenguajes':['ingles', 'español']}) # Cambiar valores del diccionario o añadir valores nuevos"
   ]
  },
  {
   "cell_type": "code",
   "execution_count": 13,
   "id": "e67b6098",
   "metadata": {},
   "outputs": [
    {
     "data": {
      "text/plain": [
       "{'nombre': 'Ramon',\n",
       " 'edad': 21,\n",
       " 'estatura': 1.89,\n",
       " 'lenguajes': ['ingles', 'español']}"
      ]
     },
     "execution_count": 13,
     "metadata": {},
     "output_type": "execute_result"
    }
   ],
   "source": [
    "my_data"
   ]
  },
  {
   "cell_type": "markdown",
   "id": "6c63b473",
   "metadata": {},
   "source": [
    "# 5.2 Copiar un Diccionario"
   ]
  },
  {
   "cell_type": "code",
   "execution_count": 14,
   "id": "f4cca114",
   "metadata": {},
   "outputs": [],
   "source": [
    "nuevo_diccionario = my_data.copy() # Se mantiene la copia independientemente de los cambios en el diccionario original"
   ]
  },
  {
   "cell_type": "code",
   "execution_count": 15,
   "id": "2131caba",
   "metadata": {},
   "outputs": [
    {
     "data": {
      "text/plain": [
       "{'nombre': 'Ramon',\n",
       " 'edad': 21,\n",
       " 'estatura': 1.89,\n",
       " 'lenguajes': ['ingles', 'español']}"
      ]
     },
     "execution_count": 15,
     "metadata": {},
     "output_type": "execute_result"
    }
   ],
   "source": [
    "nuevo_diccionario # Siempre añadir .copy() para que la copia sea independiente"
   ]
  },
  {
   "cell_type": "markdown",
   "id": "b2071735",
   "metadata": {},
   "source": [
    "# 5.3 Eliminar Elementos"
   ]
  },
  {
   "cell_type": "code",
   "execution_count": 16,
   "id": "9ecec07a",
   "metadata": {},
   "outputs": [
    {
     "data": {
      "text/plain": [
       "{'nombre': 'Ramon',\n",
       " 'edad': 21,\n",
       " 'estatura': 1.89,\n",
       " 'lenguajes': ['ingles', 'español']}"
      ]
     },
     "execution_count": 16,
     "metadata": {},
     "output_type": "execute_result"
    }
   ],
   "source": [
    "my_data"
   ]
  },
  {
   "cell_type": "code",
   "execution_count": 17,
   "id": "3427b64b",
   "metadata": {},
   "outputs": [
    {
     "data": {
      "text/plain": [
       "1.89"
      ]
     },
     "execution_count": 17,
     "metadata": {},
     "output_type": "execute_result"
    }
   ],
   "source": [
    "my_data.pop('estatura') # Eliminar valores del diccionario (te muestra el valor eliminado)"
   ]
  },
  {
   "cell_type": "code",
   "execution_count": 18,
   "id": "05b4e085",
   "metadata": {},
   "outputs": [
    {
     "data": {
      "text/plain": [
       "{'nombre': 'Ramon', 'edad': 21, 'lenguajes': ['ingles', 'español']}"
      ]
     },
     "execution_count": 18,
     "metadata": {},
     "output_type": "execute_result"
    }
   ],
   "source": [
    "my_data"
   ]
  },
  {
   "cell_type": "code",
   "execution_count": 19,
   "id": "008fdd39",
   "metadata": {},
   "outputs": [],
   "source": [
    "del my_data['lenguajes'] # Eliminar valores del diccionario (no te muestra el valor eliminado)"
   ]
  },
  {
   "cell_type": "code",
   "execution_count": 20,
   "id": "7cd669f4",
   "metadata": {},
   "outputs": [
    {
     "data": {
      "text/plain": [
       "{'nombre': 'Ramon', 'edad': 21}"
      ]
     },
     "execution_count": 20,
     "metadata": {},
     "output_type": "execute_result"
    }
   ],
   "source": [
    "my_data"
   ]
  },
  {
   "cell_type": "code",
   "execution_count": 21,
   "id": "bd2ec2c2",
   "metadata": {},
   "outputs": [],
   "source": [
    "my_data.clear() # Eliminar todos los items del diccionario"
   ]
  },
  {
   "cell_type": "code",
   "execution_count": 22,
   "id": "76610745",
   "metadata": {},
   "outputs": [
    {
     "data": {
      "text/plain": [
       "{}"
      ]
     },
     "execution_count": 22,
     "metadata": {},
     "output_type": "execute_result"
    }
   ],
   "source": [
    "my_data"
   ]
  },
  {
   "cell_type": "markdown",
   "id": "6c7ca1a9",
   "metadata": {},
   "source": [
    "# 6. Condicional IF"
   ]
  },
  {
   "cell_type": "code",
   "execution_count": null,
   "id": "d8191fdf",
   "metadata": {},
   "outputs": [],
   "source": [
    "if <condition>:    # IF: código va a ser ejecutado si se cumple la condición (Verdadero o Falso)  \n",
    "    <code>\n",
    "elif <condition>:  # ELIF: solo se ejecuta si la condición de IF es Falsa\n",
    "    <code>\n",
    "...\n",
    "else:              # ELSE: último bloque en ejecutarse en la lista si los anteriores no se ejecutaron\n",
    "    <code>\n",
    "    \n",
    " ### IMPORTANTE tabular el \"code\" debajo de \"condition\" ### (es decir, dejar un espacio, si no el condicional dará error)"
   ]
  },
  {
   "cell_type": "code",
   "execution_count": 3,
   "id": "be3d20aa",
   "metadata": {},
   "outputs": [
    {
     "name": "stdout",
     "output_type": "stream",
     "text": [
      "eres mayor de edad\n"
     ]
    }
   ],
   "source": [
    "edad = 24\n",
    "\n",
    "if edad>=18:\n",
    "    print(\"eres mayor de edad\")\n",
    "elif edad>=13:\n",
    "    print(\"eres un adolescente\")\n",
    "else:\n",
    "    print(\"eres menor de edad\")"
   ]
  },
  {
   "cell_type": "code",
   "execution_count": 28,
   "id": "eae49078",
   "metadata": {},
   "outputs": [],
   "source": [
    "countries = ['United States', 'India', 'China','Brazil']"
   ]
  },
  {
   "cell_type": "code",
   "execution_count": 31,
   "id": "c8a7c825",
   "metadata": {},
   "outputs": [
    {
     "name": "stdout",
     "output_type": "stream",
     "text": [
      "país NO está en la lista\n"
     ]
    }
   ],
   "source": [
    "if \"Colombia\" in countries:   # Si \"elemento\" está en esta \"lista\", printea el código\n",
    "    print(\"país está en la lista\")\n",
    "else:\n",
    "    print(\"país NO está en la lista\")"
   ]
  },
  {
   "cell_type": "markdown",
   "id": "8a27fe39",
   "metadata": {},
   "source": [
    "# 7. Bucle FOR (For Loop)"
   ]
  },
  {
   "cell_type": "code",
   "execution_count": null,
   "id": "12665555",
   "metadata": {},
   "outputs": [],
   "source": [
    "for <variable> in <list>:  # Recorre las variables de una lista y ejecuta un código\n",
    "    <code>"
   ]
  },
  {
   "cell_type": "code",
   "execution_count": 36,
   "id": "d3dbcff5",
   "metadata": {},
   "outputs": [
    {
     "name": "stdout",
     "output_type": "stream",
     "text": [
      "United States\n",
      "India\n",
      "China\n",
      "Brazil\n"
     ]
    }
   ],
   "source": [
    "for pais in countries:  # Por cada variable que se encuentre en esa lista (\"countries\"), imprime esas variables\n",
    "    print(pais)"
   ]
  },
  {
   "cell_type": "code",
   "execution_count": null,
   "id": "f2d83c56",
   "metadata": {},
   "outputs": [],
   "source": [
    "=   # Para asignar un valor a una variable\n",
    "==  # Comparamos ambas variables"
   ]
  },
  {
   "cell_type": "code",
   "execution_count": 39,
   "id": "2606596c",
   "metadata": {},
   "outputs": [
    {
     "ename": "SyntaxError",
     "evalue": "invalid syntax (1662675061.py, line 2)",
     "output_type": "error",
     "traceback": [
      "\u001b[1;36m  Input \u001b[1;32mIn [39]\u001b[1;36m\u001b[0m\n\u001b[1;33m    if pais = \"United States\":\u001b[0m\n\u001b[1;37m            ^\u001b[0m\n\u001b[1;31mSyntaxError\u001b[0m\u001b[1;31m:\u001b[0m invalid syntax\n"
     ]
    }
   ],
   "source": [
    "for pais in countries:\n",
    "    if pais = \"United States\":\n",
    "        print(pais)\n",
    "    "
   ]
  },
  {
   "cell_type": "code",
   "execution_count": 40,
   "id": "454474c1",
   "metadata": {},
   "outputs": [
    {
     "name": "stdout",
     "output_type": "stream",
     "text": [
      "United States\n"
     ]
    }
   ],
   "source": [
    "for pais in countries:\n",
    "    if pais == \"United States\":\n",
    "        print(pais)"
   ]
  },
  {
   "cell_type": "code",
   "execution_count": 41,
   "id": "1ea41c70",
   "metadata": {},
   "outputs": [
    {
     "name": "stdout",
     "output_type": "stream",
     "text": [
      "0\n",
      "United States\n",
      "1\n",
      "India\n",
      "2\n",
      "China\n",
      "3\n",
      "Brazil\n"
     ]
    }
   ],
   "source": [
    "for numero, pais in enumerate(countries):  # Usamos 2 variables, añadimos 2 print\n",
    "    print(numero)\n",
    "    print(pais)"
   ]
  },
  {
   "cell_type": "code",
   "execution_count": 42,
   "id": "4d1b437f",
   "metadata": {},
   "outputs": [],
   "source": [
    "my_data = {'nombre': 'Ramon', 'edad':21}"
   ]
  },
  {
   "cell_type": "code",
   "execution_count": 43,
   "id": "26a78e9e",
   "metadata": {},
   "outputs": [
    {
     "data": {
      "text/plain": [
       "{'nombre': 'Ramon', 'edad': 21}"
      ]
     },
     "execution_count": 43,
     "metadata": {},
     "output_type": "execute_result"
    }
   ],
   "source": [
    "my_data"
   ]
  },
  {
   "cell_type": "code",
   "execution_count": 44,
   "id": "c2c9893f",
   "metadata": {},
   "outputs": [
    {
     "data": {
      "text/plain": [
       "dict_items([('nombre', 'Ramon'), ('edad', 21)])"
      ]
     },
     "execution_count": 44,
     "metadata": {},
     "output_type": "execute_result"
    }
   ],
   "source": [
    "my_data.items() # 2 items, cada uno dentro de su paréntesis correspondiente"
   ]
  },
  {
   "cell_type": "code",
   "execution_count": 45,
   "id": "7c131833",
   "metadata": {},
   "outputs": [
    {
     "name": "stdout",
     "output_type": "stream",
     "text": [
      "nombre\n",
      "Ramon\n",
      "edad\n",
      "21\n"
     ]
    }
   ],
   "source": [
    "for key, value in my_data.items():  # Iterar un diccionario\n",
    "    print(key)\n",
    "    print(value)\n",
    "    "
   ]
  },
  {
   "cell_type": "markdown",
   "id": "aa25ff6a",
   "metadata": {},
   "source": [
    "# 8. Funciones"
   ]
  },
  {
   "cell_type": "markdown",
   "id": "4bfe8722",
   "metadata": {},
   "source": [
    "# 8.1 Funciones pre-fabricadas"
   ]
  },
  {
   "cell_type": "code",
   "execution_count": 46,
   "id": "a9b30def",
   "metadata": {},
   "outputs": [
    {
     "data": {
      "text/plain": [
       "['United States', 'India', 'China', 'Brazil']"
      ]
     },
     "execution_count": 46,
     "metadata": {},
     "output_type": "execute_result"
    }
   ],
   "source": [
    "countries"
   ]
  },
  {
   "cell_type": "code",
   "execution_count": 47,
   "id": "9cd32f64",
   "metadata": {},
   "outputs": [
    {
     "data": {
      "text/plain": [
       "4"
      ]
     },
     "execution_count": 47,
     "metadata": {},
     "output_type": "execute_result"
    }
   ],
   "source": [
    "len(countries) # Nos da el tamaño de un objeto iterable (listas, diccionarios, ...)"
   ]
  },
  {
   "cell_type": "code",
   "execution_count": 48,
   "id": "36072ff4",
   "metadata": {},
   "outputs": [
    {
     "data": {
      "text/plain": [
       "83"
      ]
     },
     "execution_count": 48,
     "metadata": {},
     "output_type": "execute_result"
    }
   ],
   "source": [
    "max([16, 83, 32, 1 ,10]) # Valor máximo de una lista"
   ]
  },
  {
   "cell_type": "code",
   "execution_count": 49,
   "id": "0dbd6317",
   "metadata": {},
   "outputs": [
    {
     "data": {
      "text/plain": [
       "1"
      ]
     },
     "execution_count": 49,
     "metadata": {},
     "output_type": "execute_result"
    }
   ],
   "source": [
    "min([16, 83, 32, 1 ,10]) # Valor mínimo de una lista"
   ]
  },
  {
   "cell_type": "code",
   "execution_count": 50,
   "id": "02e03f4c",
   "metadata": {},
   "outputs": [
    {
     "data": {
      "text/plain": [
       "list"
      ]
     },
     "execution_count": 50,
     "metadata": {},
     "output_type": "execute_result"
    }
   ],
   "source": [
    "type(countries) # Tipo de dato del objeto"
   ]
  },
  {
   "cell_type": "code",
   "execution_count": 51,
   "id": "8b8a92c9",
   "metadata": {},
   "outputs": [
    {
     "data": {
      "text/plain": [
       "dict"
      ]
     },
     "execution_count": 51,
     "metadata": {},
     "output_type": "execute_result"
    }
   ],
   "source": [
    "type(my_data)"
   ]
  },
  {
   "cell_type": "code",
   "execution_count": 52,
   "id": "2f691555",
   "metadata": {},
   "outputs": [
    {
     "data": {
      "text/plain": [
       "2.3"
      ]
     },
     "execution_count": 52,
     "metadata": {},
     "output_type": "execute_result"
    }
   ],
   "source": [
    "round(2.333, 1) # Redondear \"número\" a \"x\" decimales (en este caso 1 decimal)"
   ]
  },
  {
   "cell_type": "code",
   "execution_count": 55,
   "id": "3b5691ce",
   "metadata": {},
   "outputs": [
    {
     "name": "stdout",
     "output_type": "stream",
     "text": [
      "1\n",
      "3\n",
      "5\n",
      "7\n",
      "9\n"
     ]
    }
   ],
   "source": [
    "for i in range(1, 10, 2):\n",
    "    print(i)\n",
    "# Número con el que comienza la secuencia, número con el que acaba, incremento de la secuencia"
   ]
  },
  {
   "cell_type": "markdown",
   "id": "319501f6",
   "metadata": {},
   "source": [
    "# 8.2 Crear tu función"
   ]
  },
  {
   "cell_type": "code",
   "execution_count": null,
   "id": "4eed8d50",
   "metadata": {},
   "outputs": [],
   "source": [
    "def function(<params>): \n",
    "    <code>\n",
    "    return <data>"
   ]
  },
  {
   "cell_type": "code",
   "execution_count": 56,
   "id": "eebb71ae",
   "metadata": {},
   "outputs": [],
   "source": [
    "def sumar_numeros(a, b):  # Función simple (suma 2 números)\n",
    "    suma_final = a + b\n",
    "    return suma_final"
   ]
  },
  {
   "cell_type": "code",
   "execution_count": 58,
   "id": "f0cca22d",
   "metadata": {},
   "outputs": [
    {
     "data": {
      "text/plain": [
       "15"
      ]
     },
     "execution_count": 58,
     "metadata": {},
     "output_type": "execute_result"
    }
   ],
   "source": [
    "sumar_numeros(10, 5) \n",
    "\n",
    "# Cuando creamos la funcion (parámetros)\n",
    "# Cuando usamos la función (argumentos)"
   ]
  },
  {
   "cell_type": "markdown",
   "id": "0429edb1",
   "metadata": {},
   "source": [
    "# 9. Módulos"
   ]
  },
  {
   "cell_type": "code",
   "execution_count": null,
   "id": "d520c33e",
   "metadata": {},
   "outputs": [],
   "source": [
    "import"
   ]
  },
  {
   "cell_type": "markdown",
   "id": "a6f85f46",
   "metadata": {},
   "source": [
    "# 9.1 Módulo OS"
   ]
  },
  {
   "cell_type": "code",
   "execution_count": 59,
   "id": "aeed91ba",
   "metadata": {},
   "outputs": [],
   "source": [
    "import os"
   ]
  },
  {
   "cell_type": "code",
   "execution_count": 61,
   "id": "7493ff5f",
   "metadata": {},
   "outputs": [
    {
     "data": {
      "text/plain": [
       "'C:\\\\Users\\\\34630'"
      ]
     },
     "execution_count": 61,
     "metadata": {},
     "output_type": "execute_result"
    }
   ],
   "source": [
    "os.getcwd() # Pulsamos la tecla TAB después de escribir el \".\"\n",
    "\n",
    "# Nos muestra la ruta donde se encuentra nuestro archivo de Jupyter notebook"
   ]
  },
  {
   "cell_type": "code",
   "execution_count": 62,
   "id": "c4afd1bf",
   "metadata": {},
   "outputs": [
    {
     "data": {
      "text/plain": [
       "['.afirma',\n",
       " '.afirmaJA',\n",
       " '.anaconda',\n",
       " '.conda',\n",
       " '.condarc',\n",
       " '.continuum',\n",
       " '.fnmt',\n",
       " '.ipynb_checkpoints',\n",
       " '.ipython',\n",
       " '.jupyter',\n",
       " '.Origin',\n",
       " '.QtWebEngineProcess',\n",
       " '3D Objects',\n",
       " 'anaconda3',\n",
       " 'AppData',\n",
       " 'Configuración local',\n",
       " 'Contacts',\n",
       " 'Cookies',\n",
       " 'Datos de programa',\n",
       " 'Desktop',\n",
       " 'Documents',\n",
       " 'Downloads',\n",
       " 'Entorno de red',\n",
       " 'Favorites',\n",
       " 'Impresoras',\n",
       " 'IntelGraphicsProfiles',\n",
       " 'Links',\n",
       " 'Menú Inicio',\n",
       " 'MicrosoftEdgeBackups',\n",
       " 'Mis documentos',\n",
       " 'Music',\n",
       " 'NTUSER.DAT',\n",
       " 'ntuser.dat.LOG1',\n",
       " 'ntuser.dat.LOG2',\n",
       " 'NTUSER.DAT{53b39e88-18c4-11ea-a811-000d3aa4692b}.TM.blf',\n",
       " 'NTUSER.DAT{53b39e88-18c4-11ea-a811-000d3aa4692b}.TMContainer00000000000000000001.regtrans-ms',\n",
       " 'NTUSER.DAT{53b39e88-18c4-11ea-a811-000d3aa4692b}.TMContainer00000000000000000002.regtrans-ms',\n",
       " 'ntuser.ini',\n",
       " 'OneDrive',\n",
       " 'Pictures',\n",
       " 'Plantillas',\n",
       " 'práctica python 1.ipynb',\n",
       " 'Reciente',\n",
       " 'Saved Games',\n",
       " 'Searches',\n",
       " 'SendTo',\n",
       " 'Videos']"
      ]
     },
     "execution_count": 62,
     "metadata": {},
     "output_type": "execute_result"
    }
   ],
   "source": [
    "os.listdir() # Muestra todos los archivos de la carpeta"
   ]
  },
  {
   "cell_type": "code",
   "execution_count": 63,
   "id": "724ebcb1",
   "metadata": {},
   "outputs": [],
   "source": [
    "os.makedirs(\"Nueva Carpeta\")"
   ]
  },
  {
   "cell_type": "code",
   "execution_count": 64,
   "id": "118f975a",
   "metadata": {},
   "outputs": [
    {
     "data": {
      "text/plain": [
       "['.afirma',\n",
       " '.afirmaJA',\n",
       " '.anaconda',\n",
       " '.conda',\n",
       " '.condarc',\n",
       " '.continuum',\n",
       " '.fnmt',\n",
       " '.ipynb_checkpoints',\n",
       " '.ipython',\n",
       " '.jupyter',\n",
       " '.Origin',\n",
       " '.QtWebEngineProcess',\n",
       " '3D Objects',\n",
       " 'anaconda3',\n",
       " 'AppData',\n",
       " 'Configuración local',\n",
       " 'Contacts',\n",
       " 'Cookies',\n",
       " 'Datos de programa',\n",
       " 'Desktop',\n",
       " 'Documents',\n",
       " 'Downloads',\n",
       " 'Entorno de red',\n",
       " 'Favorites',\n",
       " 'Impresoras',\n",
       " 'IntelGraphicsProfiles',\n",
       " 'Links',\n",
       " 'Menú Inicio',\n",
       " 'MicrosoftEdgeBackups',\n",
       " 'Mis documentos',\n",
       " 'Music',\n",
       " 'NTUSER.DAT',\n",
       " 'ntuser.dat.LOG1',\n",
       " 'ntuser.dat.LOG2',\n",
       " 'NTUSER.DAT{53b39e88-18c4-11ea-a811-000d3aa4692b}.TM.blf',\n",
       " 'NTUSER.DAT{53b39e88-18c4-11ea-a811-000d3aa4692b}.TMContainer00000000000000000001.regtrans-ms',\n",
       " 'NTUSER.DAT{53b39e88-18c4-11ea-a811-000d3aa4692b}.TMContainer00000000000000000002.regtrans-ms',\n",
       " 'ntuser.ini',\n",
       " 'Nueva Carpeta',\n",
       " 'OneDrive',\n",
       " 'Pictures',\n",
       " 'Plantillas',\n",
       " 'práctica python 1.ipynb',\n",
       " 'Reciente',\n",
       " 'Saved Games',\n",
       " 'Searches',\n",
       " 'SendTo',\n",
       " 'Videos']"
      ]
     },
     "execution_count": 64,
     "metadata": {},
     "output_type": "execute_result"
    }
   ],
   "source": [
    "os.listdir()"
   ]
  },
  {
   "cell_type": "code",
   "execution_count": null,
   "id": "16a50d72",
   "metadata": {},
   "outputs": [],
   "source": []
  },
  {
   "cell_type": "code",
   "execution_count": null,
   "id": "1b568c0a",
   "metadata": {},
   "outputs": [],
   "source": []
  },
  {
   "cell_type": "code",
   "execution_count": null,
   "id": "b7182909",
   "metadata": {},
   "outputs": [],
   "source": []
  }
 ],
 "metadata": {
  "hide_input": false,
  "kernelspec": {
   "display_name": "Python 3 (ipykernel)",
   "language": "python",
   "name": "python3"
  },
  "language_info": {
   "codemirror_mode": {
    "name": "ipython",
    "version": 3
   },
   "file_extension": ".py",
   "mimetype": "text/x-python",
   "name": "python",
   "nbconvert_exporter": "python",
   "pygments_lexer": "ipython3",
   "version": "3.12.3"
  },
  "nbTranslate": {
   "displayLangs": [],
   "hotkey": "alt-t",
   "langInMainMenu": true,
   "sourceLang": "en",
   "targetLang": "es",
   "useGoogleTranslate": true
  },
  "toc": {
   "base_numbering": 1,
   "nav_menu": {},
   "number_sections": true,
   "sideBar": true,
   "skip_h1_title": false,
   "title_cell": "Table of Contents",
   "title_sidebar": "Contents",
   "toc_cell": false,
   "toc_position": {},
   "toc_section_display": true,
   "toc_window_display": false
  },
  "varInspector": {
   "cols": {
    "lenName": 16,
    "lenType": 16,
    "lenVar": 40
   },
   "kernels_config": {
    "python": {
     "delete_cmd_postfix": "",
     "delete_cmd_prefix": "del ",
     "library": "var_list.py",
     "varRefreshCmd": "print(var_dic_list())"
    },
    "r": {
     "delete_cmd_postfix": ") ",
     "delete_cmd_prefix": "rm(",
     "library": "var_list.r",
     "varRefreshCmd": "cat(var_dic_list()) "
    }
   },
   "types_to_exclude": [
    "module",
    "function",
    "builtin_function_or_method",
    "instance",
    "_Feature"
   ],
   "window_display": false
  }
 },
 "nbformat": 4,
 "nbformat_minor": 5
}
